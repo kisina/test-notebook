{
  "cells": [
    {
      "cell_type": "code",
      "execution_count": null,
      "id": "1f07dcaf-e343-4655-9412-9e0ad9977d7b",
      "metadata": {
        "id": "1f07dcaf-e343-4655-9412-9e0ad9977d7b",
        "outputId": "6709fcbe-083c-48d4-8048-9a8e50b33171"
      },
      "outputs": [
        {
          "name": "stdout",
          "output_type": "stream",
          "text": [
            "hello world\n"
          ]
        }
      ],
      "source": [
        "print(\"hello world\")"
      ]
    },
    {
      "cell_type": "code",
      "execution_count": 1,
      "id": "0a57caff-eec8-4abe-a962-9a3bb6720e9a",
      "metadata": {
        "id": "0a57caff-eec8-4abe-a962-9a3bb6720e9a",
        "outputId": "92ed0163-6829-4db9-fcef-5179941a872b",
        "colab": {
          "base_uri": "https://localhost:8080/"
        }
      },
      "outputs": [
        {
          "output_type": "stream",
          "name": "stdout",
          "text": [
            "hello worl2\n"
          ]
        }
      ],
      "source": [
        "print(\"hello worl2\")"
      ]
    }
  ],
  "metadata": {
    "environment": {
      "kernel": "python3",
      "name": "tf2-gpu.2-6.m87",
      "type": "gcloud",
      "uri": "gcr.io/deeplearning-platform-release/tf2-gpu.2-6:m87"
    },
    "kernelspec": {
      "display_name": "Python 3",
      "language": "python",
      "name": "python3"
    },
    "language_info": {
      "codemirror_mode": {
        "name": "ipython",
        "version": 3
      },
      "file_extension": ".py",
      "mimetype": "text/x-python",
      "name": "python",
      "nbconvert_exporter": "python",
      "pygments_lexer": "ipython3",
      "version": "3.7.12"
    },
    "colab": {
      "name": "Untitled.ipynb",
      "provenance": []
    }
  },
  "nbformat": 4,
  "nbformat_minor": 5
}